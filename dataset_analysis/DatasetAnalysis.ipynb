{
 "cells": [
  {
   "cell_type": "code",
   "execution_count": 41,
   "metadata": {},
   "outputs": [],
   "source": [
    "import pandas as pd\n",
    "import os, os.path\n",
    "import matplotlib.pyplot as plt"
   ]
  },
  {
   "cell_type": "markdown",
   "metadata": {},
   "source": [
    "# Dataset preparation"
   ]
  },
  {
   "cell_type": "code",
   "execution_count": 42,
   "metadata": {},
   "outputs": [
    {
     "data": {
      "text/html": [
       "<div>\n",
       "<style scoped>\n",
       "    .dataframe tbody tr th:only-of-type {\n",
       "        vertical-align: middle;\n",
       "    }\n",
       "\n",
       "    .dataframe tbody tr th {\n",
       "        vertical-align: top;\n",
       "    }\n",
       "\n",
       "    .dataframe thead th {\n",
       "        text-align: right;\n",
       "    }\n",
       "</style>\n",
       "<table border=\"1\" class=\"dataframe\">\n",
       "  <thead>\n",
       "    <tr style=\"text-align: right;\">\n",
       "      <th></th>\n",
       "      <th>speciesName</th>\n",
       "      <th>taxonomicFamily</th>\n",
       "      <th>commonName</th>\n",
       "    </tr>\n",
       "    <tr>\n",
       "      <th>_id</th>\n",
       "      <th></th>\n",
       "      <th></th>\n",
       "      <th></th>\n",
       "    </tr>\n",
       "  </thead>\n",
       "  <tbody>\n",
       "    <tr>\n",
       "      <th>1</th>\n",
       "      <td>Atheris broadleyi</td>\n",
       "      <td>Viperidae</td>\n",
       "      <td>Broadley's bush viper</td>\n",
       "    </tr>\n",
       "    <tr>\n",
       "      <th>2</th>\n",
       "      <td>Atheris chlorechis</td>\n",
       "      <td>Viperidae</td>\n",
       "      <td>West African bush viper</td>\n",
       "    </tr>\n",
       "    <tr>\n",
       "      <th>6</th>\n",
       "      <td>Atractaspis fallax</td>\n",
       "      <td>Atractaspididae</td>\n",
       "      <td>False burrowing asp</td>\n",
       "    </tr>\n",
       "    <tr>\n",
       "      <th>4</th>\n",
       "      <td>Atractaspis andersonii</td>\n",
       "      <td>Atractaspididae</td>\n",
       "      <td>Anderson's mole viper</td>\n",
       "    </tr>\n",
       "    <tr>\n",
       "      <th>3</th>\n",
       "      <td>Atheris squamigera</td>\n",
       "      <td>Viperidae</td>\n",
       "      <td>Variable bush viper</td>\n",
       "    </tr>\n",
       "  </tbody>\n",
       "</table>\n",
       "</div>"
      ],
      "text/plain": [
       "                 speciesName  taxonomicFamily               commonName\n",
       "_id                                                                   \n",
       "1          Atheris broadleyi        Viperidae    Broadley's bush viper\n",
       "2         Atheris chlorechis        Viperidae  West African bush viper\n",
       "6         Atractaspis fallax  Atractaspididae      False burrowing asp\n",
       "4    Atractaspis andersonii   Atractaspididae    Anderson's mole viper\n",
       "3         Atheris squamigera        Viperidae      Variable bush viper"
      ]
     },
     "execution_count": 42,
     "metadata": {},
     "output_type": "execute_result"
    }
   ],
   "source": [
    "dataset_initial = pd.read_csv('../dataset/dataset.csv')\n",
    "dataset_initial = dataset_initial.drop(['imageUrl','pdfUrl'], axis = 1)\n",
    "dataset_initial = dataset_initial.set_index('_id')\n",
    "dataset_initial.head()"
   ]
  },
  {
   "cell_type": "code",
   "execution_count": 43,
   "metadata": {},
   "outputs": [
    {
     "name": "stdout",
     "output_type": "stream",
     "text": [
      "Directory not found for 98\n"
     ]
    },
    {
     "data": {
      "text/html": [
       "<div>\n",
       "<style scoped>\n",
       "    .dataframe tbody tr th:only-of-type {\n",
       "        vertical-align: middle;\n",
       "    }\n",
       "\n",
       "    .dataframe tbody tr th {\n",
       "        vertical-align: top;\n",
       "    }\n",
       "\n",
       "    .dataframe thead th {\n",
       "        text-align: right;\n",
       "    }\n",
       "</style>\n",
       "<table border=\"1\" class=\"dataframe\">\n",
       "  <thead>\n",
       "    <tr style=\"text-align: right;\">\n",
       "      <th></th>\n",
       "      <th>sample_count</th>\n",
       "    </tr>\n",
       "    <tr>\n",
       "      <th>_id</th>\n",
       "      <th></th>\n",
       "    </tr>\n",
       "  </thead>\n",
       "  <tbody>\n",
       "    <tr>\n",
       "      <th>1</th>\n",
       "      <td>2</td>\n",
       "    </tr>\n",
       "    <tr>\n",
       "      <th>2</th>\n",
       "      <td>2</td>\n",
       "    </tr>\n",
       "    <tr>\n",
       "      <th>3</th>\n",
       "      <td>4</td>\n",
       "    </tr>\n",
       "    <tr>\n",
       "      <th>4</th>\n",
       "      <td>0</td>\n",
       "    </tr>\n",
       "    <tr>\n",
       "      <th>5</th>\n",
       "      <td>2</td>\n",
       "    </tr>\n",
       "  </tbody>\n",
       "</table>\n",
       "</div>"
      ],
      "text/plain": [
       "     sample_count\n",
       "_id              \n",
       "1               2\n",
       "2               2\n",
       "3               4\n",
       "4               0\n",
       "5               2"
      ]
     },
     "execution_count": 43,
     "metadata": {},
     "output_type": "execute_result"
    }
   ],
   "source": [
    "dataset_dir = '../dataset/images/{}/'\n",
    "sample_counts = []\n",
    "sample_ids = []\n",
    "for i in range(1,239):\n",
    "    try:\n",
    "        current_derectory = dataset_dir.format(i)\n",
    "        count = len([name for name in os.listdir(current_derectory) if os.path.isfile(os.path.join(current_derectory, name))])\n",
    "        sample_counts.append(count)\n",
    "        sample_ids.append(i)\n",
    "    except FileNotFoundError:\n",
    "        print('Directory not found for {}'.format(i))\n",
    "sample_count_pd = pd.DataFrame({'_id':sample_ids, 'sample_count': sample_counts})\n",
    "sample_count_pd = sample_count_pd.set_index('_id')\n",
    "sample_count_pd.head()"
   ]
  },
  {
   "cell_type": "code",
   "execution_count": 44,
   "metadata": {},
   "outputs": [
    {
     "data": {
      "text/html": [
       "<div>\n",
       "<style scoped>\n",
       "    .dataframe tbody tr th:only-of-type {\n",
       "        vertical-align: middle;\n",
       "    }\n",
       "\n",
       "    .dataframe tbody tr th {\n",
       "        vertical-align: top;\n",
       "    }\n",
       "\n",
       "    .dataframe thead th {\n",
       "        text-align: right;\n",
       "    }\n",
       "</style>\n",
       "<table border=\"1\" class=\"dataframe\">\n",
       "  <thead>\n",
       "    <tr style=\"text-align: right;\">\n",
       "      <th></th>\n",
       "      <th>speciesName</th>\n",
       "      <th>taxonomicFamily</th>\n",
       "      <th>commonName</th>\n",
       "      <th>sample_count</th>\n",
       "    </tr>\n",
       "    <tr>\n",
       "      <th>_id</th>\n",
       "      <th></th>\n",
       "      <th></th>\n",
       "      <th></th>\n",
       "      <th></th>\n",
       "    </tr>\n",
       "  </thead>\n",
       "  <tbody>\n",
       "    <tr>\n",
       "      <th>1</th>\n",
       "      <td>Atheris broadleyi</td>\n",
       "      <td>Viperidae</td>\n",
       "      <td>Broadley's bush viper</td>\n",
       "      <td>2</td>\n",
       "    </tr>\n",
       "    <tr>\n",
       "      <th>2</th>\n",
       "      <td>Atheris chlorechis</td>\n",
       "      <td>Viperidae</td>\n",
       "      <td>West African bush viper</td>\n",
       "      <td>2</td>\n",
       "    </tr>\n",
       "    <tr>\n",
       "      <th>6</th>\n",
       "      <td>Atractaspis fallax</td>\n",
       "      <td>Atractaspididae</td>\n",
       "      <td>False burrowing asp</td>\n",
       "      <td>2</td>\n",
       "    </tr>\n",
       "    <tr>\n",
       "      <th>4</th>\n",
       "      <td>Atractaspis andersonii</td>\n",
       "      <td>Atractaspididae</td>\n",
       "      <td>Anderson's mole viper</td>\n",
       "      <td>0</td>\n",
       "    </tr>\n",
       "    <tr>\n",
       "      <th>3</th>\n",
       "      <td>Atheris squamigera</td>\n",
       "      <td>Viperidae</td>\n",
       "      <td>Variable bush viper</td>\n",
       "      <td>4</td>\n",
       "    </tr>\n",
       "  </tbody>\n",
       "</table>\n",
       "</div>"
      ],
      "text/plain": [
       "                 speciesName  taxonomicFamily               commonName  \\\n",
       "_id                                                                      \n",
       "1          Atheris broadleyi        Viperidae    Broadley's bush viper   \n",
       "2         Atheris chlorechis        Viperidae  West African bush viper   \n",
       "6         Atractaspis fallax  Atractaspididae      False burrowing asp   \n",
       "4    Atractaspis andersonii   Atractaspididae    Anderson's mole viper   \n",
       "3         Atheris squamigera        Viperidae      Variable bush viper   \n",
       "\n",
       "     sample_count  \n",
       "_id                \n",
       "1               2  \n",
       "2               2  \n",
       "6               2  \n",
       "4               0  \n",
       "3               4  "
      ]
     },
     "execution_count": 44,
     "metadata": {},
     "output_type": "execute_result"
    }
   ],
   "source": [
    "dataset = pd.merge(dataset_initial, sample_count_pd, on=\"_id\")\n",
    "dataset.head()"
   ]
  },
  {
   "cell_type": "code",
   "execution_count": 45,
   "metadata": {},
   "outputs": [
    {
     "data": {
      "text/plain": [
       "0     44\n",
       "1     47\n",
       "2     62\n",
       "3     34\n",
       "4     24\n",
       "5     13\n",
       "6      9\n",
       "7      2\n",
       "8      1\n",
       "16     1\n",
       "Name: sample_count, dtype: int64"
      ]
     },
     "execution_count": 45,
     "metadata": {},
     "output_type": "execute_result"
    }
   ],
   "source": [
    "counts_hist = dataset['sample_count'].value_counts().sort_index()\n",
    "counts_hist"
   ]
  },
  {
   "cell_type": "code",
   "execution_count": 46,
   "metadata": {},
   "outputs": [
    {
     "data": {
      "text/plain": [
       "<matplotlib.axes._subplots.AxesSubplot at 0x7fb881c6a208>"
      ]
     },
     "execution_count": 46,
     "metadata": {},
     "output_type": "execute_result"
    },
    {
     "data": {
      "image/png": "[encoded data removed]",
      "text/plain": [
       "<Figure size 720x432 with 1 Axes>"
      ]
     },
     "metadata": {},
     "output_type": "display_data"
    }
   ],
   "source": [
    "plt.figure(figsize=(10,6))\n",
    "plt.xlabel('Sample count')\n",
    "plt.ylabel('Frequency')\n",
    "plt.suptitle('Distribution of available image count')\n",
    "counts_hist.plot.bar()"
   ]
  },
  {
   "cell_type": "code",
   "execution_count": null,
   "metadata": {},
   "outputs": [],
   "source": []
  }
 ],
 "metadata": {
  "kernelspec": {
   "display_name": "Python 3",
   "language": "python",
   "name": "python3"
  },
  "language_info": {
   "codemirror_mode": {
    "name": "ipython",
    "version": 3
   },
   "file_extension": ".py",
   "mimetype": "text/x-python",
   "name": "python",
   "nbconvert_exporter": "python",
   "pygments_lexer": "ipython3",
   "version": "3.5.2"
  }
 },
 "nbformat": 4,
 "nbformat_minor": 2
}
