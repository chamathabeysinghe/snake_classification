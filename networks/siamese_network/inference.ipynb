{
 "cells": [
  {
   "cell_type": "code",
   "execution_count": 9,
   "metadata": {},
   "outputs": [],
   "source": [
    "from keras.models import load_model\n",
    "from SiameseModel import SiameseModel\n",
    "from SiameseLoader import SiameseLoader\n",
    "import glob\n",
    "import os\n",
    "import numpy as np"
   ]
  },
  {
   "cell_type": "code",
   "execution_count": 2,
   "metadata": {},
   "outputs": [
    {
     "name": "stdout",
     "output_type": "stream",
     "text": [
      "loading from checkpoint:  checkpoints/flowchroma-epoch-00480-lr--train_loss-0.6302-val_loss-0.5263.hdf5\n"
     ]
    },
    {
     "name": "stderr",
     "output_type": "stream",
     "text": [
      "/usr/local/lib/python3.5/dist-packages/keras/engine/topology.py:1271: UserWarning: The `Merge` layer is deprecated and will be removed after 08/2017. Use instead layers from `keras.layers.merge`, e.g. `add`, `concatenate`, etc.\n",
      "  return cls(**config)\n"
     ]
    }
   ],
   "source": [
    "ckpts = glob.glob(\"checkpoints/*.hdf5\")\n",
    "latest_ckpt = max(ckpts, key=os.path.getctime)\n",
    "print(\"loading from checkpoint: \", latest_ckpt)\n",
    "initial_epoch = int(latest_ckpt[latest_ckpt.find(\"-epoch-\") + len(\"-epoch-\"):latest_ckpt.rfind(\"-lr-\")])\n",
    "model = load_model(latest_ckpt)"
   ]
  },
  {
   "cell_type": "code",
   "execution_count": 3,
   "metadata": {},
   "outputs": [
    {
     "name": "stdout",
     "output_type": "stream",
     "text": [
      "loading snake breed: 152\n",
      "loading snake breed: 159\n",
      "loading snake breed: 80\n",
      "loading snake breed: 187\n"
     ]
    },
    {
     "name": "stderr",
     "output_type": "stream",
     "text": [
      "/usr/local/lib/python3.5/dist-packages/skimage/transform/_warps.py:84: UserWarning: The default mode, 'constant', will be changed to 'reflect' in skimage 0.15.\n",
      "  warn(\"The default mode, 'constant', will be changed to 'reflect' in \"\n"
     ]
    },
    {
     "name": "stdout",
     "output_type": "stream",
     "text": [
      "loading snake breed: 3\n",
      "loading snake breed: 46\n",
      "loading snake breed: 158\n",
      "loading snake breed: 87\n",
      "loading snake breed: 123\n",
      "loading snake breed: 100\n",
      "loading snake breed: 205\n",
      "loading snake breed: 197\n",
      "loading snake breed: 120\n",
      "loading snake breed: 61\n",
      "loading snake breed: 124\n",
      "loading snake breed: 67\n",
      "loading snake breed: 110\n",
      "loading snake breed: 44\n",
      "loading snake breed: 203\n",
      "loading snake breed: 32\n",
      "loading snake breed: 43\n",
      "loading snake breed: 111\n",
      "loading snake breed: 219\n",
      "loading snake breed: 156\n",
      "loading snake breed: 175\n",
      "loading snake breed: 193\n",
      "loading snake breed: 201\n",
      "loading snake breed: 88\n",
      "loading snake breed: 83\n",
      "loading snake breed: 109\n",
      "loading snake breed: 107\n",
      "loading snake breed: 185\n",
      "loading snake breed: 89\n",
      "loading snake breed: 206\n",
      "loading snake breed: 165\n",
      "loading snake breed: 127\n",
      "loading snake breed: 15\n",
      "loading snake breed: 230\n",
      "loading snake breed: 204\n",
      "loading snake breed: 21\n",
      "loading snake breed: 66\n",
      "loading snake breed: 167\n",
      "loading snake breed: 63\n",
      "loading snake breed: 128\n",
      "loading snake breed: 45\n",
      "loading snake breed: 69\n",
      "loading snake breed: 22\n",
      "loading snake breed: 103\n",
      "loading snake breed: 65\n",
      "loading snake breed: 42\n",
      "loading snake breed: 151\n",
      "loading snake breed: 99\n",
      "loading snake breed: 119\n",
      "loading snake breed: 202\n",
      "loading snake breed: 58\n",
      "loading snake breed: 64\n",
      "loading snake breed: 96\n",
      "loading snake breed: 60\n",
      "loading snake breed: 37\n",
      "loading snake breed: 174\n",
      "loading snake breed: 178\n",
      "loading snake breed: 8\n",
      "loading snake breed: 75\n",
      "loading snake breed: 13\n",
      "loading snake breed: 84\n",
      "loading snake breed: 209\n",
      "loading snake breed: 68\n",
      "loading snake breed: 131\n",
      "loading snake breed: 27\n",
      "loading snake breed: 113\n",
      "loading snake breed: 62\n",
      "loading snake breed: 85\n",
      "loading snake breed: 34\n",
      "loading snake breed: 129\n",
      "loading snake breed: 54\n",
      "loading snake breed: 101\n",
      "loading snake breed: 133\n",
      "loading snake breed: 30\n",
      "loading snake breed: 82\n",
      "loading snake breed: 198\n",
      "loading snake breed: 51\n",
      "loading snake breed: 18\n",
      "loading snake breed: 146\n",
      "loading snake breed: 48\n",
      "Loading train\n",
      "X shape is (84,)\n",
      "y shape is (84, 1)\n",
      "loading snake breed: 152\n",
      "loading snake breed: 159\n",
      "loading snake breed: 80\n",
      "loading snake breed: 187\n",
      "loading snake breed: 3\n",
      "loading snake breed: 46\n",
      "loading snake breed: 158\n",
      "loading snake breed: 87\n",
      "loading snake breed: 123\n",
      "loading snake breed: 100\n",
      "loading snake breed: 205\n",
      "loading snake breed: 197\n",
      "loading snake breed: 120\n",
      "loading snake breed: 61\n",
      "loading snake breed: 124\n",
      "loading snake breed: 67\n",
      "loading snake breed: 110\n",
      "loading snake breed: 44\n",
      "loading snake breed: 203\n",
      "loading snake breed: 32\n",
      "loading snake breed: 43\n",
      "loading snake breed: 111\n",
      "loading snake breed: 219\n",
      "loading snake breed: 156\n",
      "loading snake breed: 175\n",
      "loading snake breed: 193\n",
      "loading snake breed: 201\n",
      "loading snake breed: 88\n",
      "loading snake breed: 83\n",
      "loading snake breed: 109\n",
      "loading snake breed: 107\n",
      "loading snake breed: 185\n",
      "loading snake breed: 89\n",
      "loading snake breed: 206\n",
      "loading snake breed: 165\n",
      "loading snake breed: 127\n",
      "loading snake breed: 15\n",
      "loading snake breed: 230\n",
      "loading snake breed: 204\n",
      "loading snake breed: 21\n",
      "loading snake breed: 66\n",
      "loading snake breed: 167\n",
      "loading snake breed: 63\n",
      "loading snake breed: 128\n",
      "loading snake breed: 45\n",
      "loading snake breed: 69\n",
      "loading snake breed: 22\n",
      "loading snake breed: 103\n",
      "loading snake breed: 65\n",
      "loading snake breed: 42\n",
      "loading snake breed: 151\n",
      "loading snake breed: 99\n",
      "loading snake breed: 119\n",
      "loading snake breed: 202\n",
      "loading snake breed: 58\n",
      "loading snake breed: 64\n",
      "loading snake breed: 96\n",
      "loading snake breed: 60\n",
      "loading snake breed: 37\n",
      "loading snake breed: 174\n",
      "loading snake breed: 178\n",
      "loading snake breed: 8\n",
      "loading snake breed: 75\n",
      "loading snake breed: 13\n",
      "loading snake breed: 84\n",
      "loading snake breed: 209\n",
      "loading snake breed: 68\n",
      "loading snake breed: 131\n",
      "loading snake breed: 27\n",
      "loading snake breed: 113\n",
      "loading snake breed: 62\n",
      "loading snake breed: 85\n",
      "loading snake breed: 34\n",
      "loading snake breed: 129\n",
      "loading snake breed: 54\n",
      "loading snake breed: 101\n",
      "loading snake breed: 133\n",
      "loading snake breed: 30\n",
      "loading snake breed: 82\n",
      "loading snake breed: 198\n",
      "loading snake breed: 51\n",
      "loading snake breed: 18\n",
      "loading snake breed: 146\n",
      "loading snake breed: 48\n",
      "Loading validation\n",
      "X shape is (84, 1, 64, 64, 3)\n",
      "y shape is (84, 1)\n"
     ]
    }
   ],
   "source": [
    "loader = SiameseLoader('./data')"
   ]
  },
  {
   "cell_type": "code",
   "execution_count": 5,
   "metadata": {},
   "outputs": [],
   "source": [
    "pairs, targets = loader.make_oneshot_task()"
   ]
  },
  {
   "cell_type": "code",
   "execution_count": 6,
   "metadata": {},
   "outputs": [],
   "source": [
    "prediction = model.predict(pairs)"
   ]
  },
  {
   "cell_type": "code",
   "execution_count": 7,
   "metadata": {},
   "outputs": [
    {
     "data": {
      "text/plain": [
       "array([[0.4018709 ],\n",
       "       [0.46314165],\n",
       "       [0.3676334 ],\n",
       "       [0.32479432],\n",
       "       [0.46275142],\n",
       "       [0.5228324 ],\n",
       "       [0.4682466 ],\n",
       "       [0.34014118],\n",
       "       [0.32990766],\n",
       "       [0.34315553],\n",
       "       [0.40578827],\n",
       "       [0.38399917],\n",
       "       [0.429284  ],\n",
       "       [0.34203216],\n",
       "       [0.34073955],\n",
       "       [0.38780743],\n",
       "       [0.32813725],\n",
       "       [0.29408592],\n",
       "       [0.42393643],\n",
       "       [0.4981438 ],\n",
       "       [0.3961813 ],\n",
       "       [0.36058804],\n",
       "       [0.44851914],\n",
       "       [0.41613993],\n",
       "       [0.33638766],\n",
       "       [0.5409753 ],\n",
       "       [0.33673286],\n",
       "       [0.44198704],\n",
       "       [0.47398418],\n",
       "       [0.51410407],\n",
       "       [0.50079095],\n",
       "       [0.5062505 ],\n",
       "       [0.42209432],\n",
       "       [0.47809243],\n",
       "       [0.5469968 ],\n",
       "       [0.4476906 ],\n",
       "       [0.4734066 ],\n",
       "       [0.49696046],\n",
       "       [0.47375858],\n",
       "       [0.5068689 ],\n",
       "       [0.38793907],\n",
       "       [0.51351655],\n",
       "       [0.55401385],\n",
       "       [0.4633619 ],\n",
       "       [0.45737186],\n",
       "       [0.4696424 ],\n",
       "       [0.5106567 ],\n",
       "       [0.48336443],\n",
       "       [0.3133919 ],\n",
       "       [0.35159558],\n",
       "       [0.47929645],\n",
       "       [0.4554843 ],\n",
       "       [0.33715495],\n",
       "       [0.47485974],\n",
       "       [0.3580462 ],\n",
       "       [0.34745893],\n",
       "       [0.3751421 ],\n",
       "       [0.45706466],\n",
       "       [0.46873158],\n",
       "       [0.3098973 ],\n",
       "       [0.37030056],\n",
       "       [0.47113797],\n",
       "       [0.5697352 ],\n",
       "       [0.43385962],\n",
       "       [0.46573064],\n",
       "       [0.4313254 ],\n",
       "       [0.48027697],\n",
       "       [0.46640062],\n",
       "       [0.35641325],\n",
       "       [0.54692334],\n",
       "       [0.5238044 ],\n",
       "       [0.5681594 ],\n",
       "       [0.42920402],\n",
       "       [0.49288994],\n",
       "       [0.5576092 ],\n",
       "       [0.42310113],\n",
       "       [0.52953446],\n",
       "       [0.55257744],\n",
       "       [0.55899787],\n",
       "       [0.36957934],\n",
       "       [0.5656379 ],\n",
       "       [0.4731314 ],\n",
       "       [0.55175984],\n",
       "       [0.53132594]], dtype=float32)"
      ]
     },
     "execution_count": 7,
     "metadata": {},
     "output_type": "execute_result"
    }
   ],
   "source": [
    "prediction"
   ]
  },
  {
   "cell_type": "code",
   "execution_count": 8,
   "metadata": {},
   "outputs": [
    {
     "data": {
      "text/plain": [
       "array([0., 0., 0., 0., 0., 0., 0., 0., 0., 0., 0., 0., 0., 0., 0., 0., 0.,\n",
       "       0., 0., 0., 0., 0., 0., 0., 0., 0., 0., 0., 0., 0., 0., 0., 0., 0.,\n",
       "       0., 0., 0., 0., 0., 0., 0., 0., 0., 1., 0., 0., 0., 0., 0., 0., 0.,\n",
       "       0., 0., 0., 0., 0., 0., 0., 0., 0., 0., 0., 0., 0., 0., 0., 0., 0.,\n",
       "       0., 0., 0., 0., 0., 0., 0., 0., 0., 0., 0., 0., 0., 0., 0., 0.])"
      ]
     },
     "execution_count": 8,
     "metadata": {},
     "output_type": "execute_result"
    }
   ],
   "source": [
    "targets"
   ]
  },
  {
   "cell_type": "code",
   "execution_count": 10,
   "metadata": {},
   "outputs": [
    {
     "data": {
      "text/plain": [
       "43"
      ]
     },
     "execution_count": 10,
     "metadata": {},
     "output_type": "execute_result"
    }
   ],
   "source": [
    "np.argmax(targets)"
   ]
  },
  {
   "cell_type": "code",
   "execution_count": 11,
   "metadata": {},
   "outputs": [
    {
     "data": {
      "text/plain": [
       "62"
      ]
     },
     "execution_count": 11,
     "metadata": {},
     "output_type": "execute_result"
    }
   ],
   "source": [
    "np.argmax(prediction)"
   ]
  },
  {
   "cell_type": "code",
   "execution_count": 12,
   "metadata": {},
   "outputs": [
    {
     "data": {
      "text/plain": [
       "array([0.4633619], dtype=float32)"
      ]
     },
     "execution_count": 12,
     "metadata": {},
     "output_type": "execute_result"
    }
   ],
   "source": [
    "prediction[43]"
   ]
  },
  {
   "cell_type": "code",
   "execution_count": 13,
   "metadata": {},
   "outputs": [
    {
     "data": {
      "text/plain": [
       "array([0.5697352], dtype=float32)"
      ]
     },
     "execution_count": 13,
     "metadata": {},
     "output_type": "execute_result"
    }
   ],
   "source": [
    "prediction[62]"
   ]
  },
  {
   "cell_type": "code",
   "execution_count": null,
   "metadata": {},
   "outputs": [],
   "source": []
  }
 ],
 "metadata": {
  "kernelspec": {
   "display_name": "Python 3",
   "language": "python",
   "name": "python3"
  },
  "language_info": {
   "codemirror_mode": {
    "name": "ipython",
    "version": 3
   },
   "file_extension": ".py",
   "mimetype": "text/x-python",
   "name": "python",
   "nbconvert_exporter": "python",
   "pygments_lexer": "ipython3",
   "version": "3.5.2"
  }
 },
 "nbformat": 4,
 "nbformat_minor": 2
}
